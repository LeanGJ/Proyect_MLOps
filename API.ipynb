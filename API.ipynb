{
 "cells": [
  {
   "cell_type": "code",
   "execution_count": 59,
   "metadata": {},
   "outputs": [],
   "source": [
    "import pandas as pd\n",
    "import locale"
   ]
  },
  {
   "cell_type": "code",
   "execution_count": 23,
   "metadata": {},
   "outputs": [],
   "source": [
    "df_completo=pd.read_csv(r'Datasets/Data_ETL_EDA.csv')"
   ]
  },
  {
   "cell_type": "code",
   "execution_count": 20,
   "metadata": {},
   "outputs": [
    {
     "name": "stdout",
     "output_type": "stream",
     "text": [
      "<class 'pandas.core.frame.DataFrame'>\n",
      "RangeIndex: 44362 entries, 0 to 44361\n",
      "Data columns (total 17 columns):\n",
      " #   Column           Non-Null Count  Dtype  \n",
      "---  ------           --------------  -----  \n",
      " 0   budget           44362 non-null  float64\n",
      " 1   id               44362 non-null  int64  \n",
      " 2   overview         44362 non-null  object \n",
      " 3   popularity       44362 non-null  float64\n",
      " 4   release_date     44362 non-null  object \n",
      " 5   revenue          44362 non-null  float64\n",
      " 6   runtime          44362 non-null  int64  \n",
      " 7   title            44362 non-null  object \n",
      " 8   release_year     44362 non-null  int64  \n",
      " 9   return           44362 non-null  float64\n",
      " 10  collection_name  4426 non-null   object \n",
      " 11  genres_name      44362 non-null  object \n",
      " 12  pcompany_name    44362 non-null  object \n",
      " 13  pcountry_name    44362 non-null  object \n",
      " 14  namecast         44362 non-null  object \n",
      " 15  idcast           44362 non-null  object \n",
      " 16  directors        44362 non-null  object \n",
      "dtypes: float64(4), int64(3), object(10)\n",
      "memory usage: 5.8+ MB\n"
     ]
    }
   ],
   "source": [
    "df_completo.info()"
   ]
  },
  {
   "cell_type": "code",
   "execution_count": 62,
   "metadata": {},
   "outputs": [
    {
     "data": {
      "text/plain": [
       "{'mes': 'enero', 'cantidad': 5740}"
      ]
     },
     "execution_count": 62,
     "metadata": {},
     "output_type": "execute_result"
    }
   ],
   "source": [
    "cantidad_filmaciones_mes(\"enero\")"
   ]
  },
  {
   "cell_type": "code",
   "execution_count": 61,
   "metadata": {},
   "outputs": [],
   "source": [
    "def cantidad_filmaciones_mes(mes:str):\n",
    "    '''Se ingresa el mes y la funcion retorna la cantidad de peliculas que se estrenaron ese mes historicamente'''\n",
    "    fechas=pd.to_datetime(df_completo['release_date'],format='%Y-%m-%d')\n",
    "    nmes=fechas[fechas.dt.month_name(locale='es_CO')==mes.capitalize()]\n",
    "    respuesta=nmes.shape[0]\n",
    "    return {'mes':mes, 'cantidad':respuesta}"
   ]
  },
  {
   "cell_type": "code",
   "execution_count": 60,
   "metadata": {},
   "outputs": [
    {
     "data": {
      "text/plain": [
       "{'dia': 'lunes', 'cantidad': 3408}"
      ]
     },
     "execution_count": 60,
     "metadata": {},
     "output_type": "execute_result"
    }
   ],
   "source": [
    "cantidad_filmaciones_dia(\"lunes\")"
   ]
  },
  {
   "cell_type": "code",
   "execution_count": 58,
   "metadata": {},
   "outputs": [],
   "source": [
    "def cantidad_filmaciones_dia(dia:str):\n",
    "    '''Se ingresa el dia y la funcion retorna la cantidad de peliculas que se estrebaron ese dia historicamente'''\n",
    "    locale.setlocale(locale.LC_TIME, 'es_ES.UTF-8') #configuración regional\n",
    "    fechas=pd.to_datetime(df_completo['release_date'],format='%Y-%m-%d')\n",
    "    ndia = fechas[fechas.dt.strftime('%A') == dia.lower()]\n",
    "    respuesta=ndia.shape[0]\n",
    "    return {'dia':dia, 'cantidad':respuesta}"
   ]
  },
  {
   "cell_type": "code",
   "execution_count": 53,
   "metadata": {},
   "outputs": [
    {
     "data": {
      "text/plain": [
       "{'titulo': 'toy story', 'anio': 1995, 'popularidad': 21.946943}"
      ]
     },
     "execution_count": 53,
     "metadata": {},
     "output_type": "execute_result"
    }
   ],
   "source": [
    "score_titulo(\"toy story\")"
   ]
  },
  {
   "cell_type": "code",
   "execution_count": 52,
   "metadata": {},
   "outputs": [],
   "source": [
    "def score_titulo(titulo: str):\n",
    "    '''Se ingresa el título de una filmación esperando como respuesta el título, el año de estreno y el score'''\n",
    "    # Convertir el título a minúsculas\n",
    "    titulo = titulo.lower()\n",
    "    # Filtrar el DataFrame para obtener la película correspondiente al título ingresado\n",
    "    pelicula = df_completo[df_completo['title'].str.lower() == titulo]\n",
    "    if pelicula.empty:\n",
    "        return {'mensaje': 'No se encontró ninguna filmación con ese título.'}\n",
    "    anio = pelicula['release_year'].iloc[0]\n",
    "    popularidad = pelicula['popularity'].iloc[0]\n",
    "    return {'titulo': titulo, 'anio': anio, 'popularidad': popularidad}"
   ]
  },
  {
   "cell_type": "code",
   "execution_count": 49,
   "metadata": {},
   "outputs": [
    {
     "data": {
      "text/plain": [
       "{'titulo': 'Toy Story', 'voto_total': 5415.0, 'voto_promedio': 5415.0}"
      ]
     },
     "execution_count": 49,
     "metadata": {},
     "output_type": "execute_result"
    }
   ],
   "source": [
    "votos_titulo(\"Toy Story\")"
   ]
  },
  {
   "cell_type": "code",
   "execution_count": 46,
   "metadata": {},
   "outputs": [],
   "source": [
    "def votos_titulo(titulo:str):\n",
    "    '''Se ingresa el título de una filmación esperando como respuesta el título, la cantidad de votos y el valor promedio de las votaciones. \n",
    "    La misma variable deberá de contar con al menos 2000 valoraciones, \n",
    "    caso contrario, debemos contar con un mensaje avisando que no cumple esta condición y que por ende, no se devuelve ningun valor.'''\n",
    "    low = titulo.lower()\n",
    "    pel = df_completo[df_completo['title'].str.lower() == low]   # Filtrar por título ingresado\n",
    "    votos = pel['vote_count'].iloc[0] # Suma de los votos\n",
    "    promedio = votos.mean()  # Valor promedio de los votos\n",
    "    if votos < 2000:  # Verificar si tiene menos de 2000 valoraciones\n",
    "        return {'mensaje': f'La filmación \"{titulo}\" no cumple la condición de tener al menos 2000 valoraciones. ',\"votos\": votos}\n",
    "    return {'titulo': titulo, 'voto_total': votos, 'voto_promedio': promedio}"
   ]
  },
  {
   "cell_type": "code",
   "execution_count": 51,
   "metadata": {},
   "outputs": [
    {
     "data": {
      "text/plain": [
       "{'actor': 'tom hanks',\n",
       " 'cantidad_filmaciones': 68,\n",
       " 'retorno_total': 178.8494960552024,\n",
       " 'retorno_promedio': 2.6301396478706236}"
      ]
     },
     "execution_count": 51,
     "metadata": {},
     "output_type": "execute_result"
    }
   ],
   "source": [
    "get_actor(\"Tom Hanks\")"
   ]
  },
  {
   "cell_type": "code",
   "execution_count": 50,
   "metadata": {},
   "outputs": [],
   "source": [
    "def get_actor(nombre_actor: str):\n",
    "    '''Se ingresa el nombre de un actor que se encuentre dentro de un dataset debiendo devolver el éxito del mismo medido a través del retorno. \n",
    "    Además, la cantidad de películas en las que ha participado y el promedio de retorno'''\n",
    "\n",
    "    # Convertir el nombre del actor a minúsculas\n",
    "    nombre_actor = nombre_actor.lower()\n",
    "    \n",
    "    # Filtrar el DataFrame para obtener las películas en las que participa el actor\n",
    "    peliculas_actor = df_completo[df_completo['namecast'].str.lower().str.contains(nombre_actor)]\n",
    "    \n",
    "    # Obtener la cantidad de películas y el retorno total del actor\n",
    "    cantidad_filmaciones = len(peliculas_actor)\n",
    "    retorno_total = peliculas_actor['return'].sum()\n",
    "    \n",
    "    # Calcular el retorno promedio\n",
    "    retorno_promedio = retorno_total / cantidad_filmaciones\n",
    "    \n",
    "    return {'actor': nombre_actor, 'cantidad_filmaciones': cantidad_filmaciones, 'retorno_total': retorno_total, 'retorno_promedio': retorno_promedio}\n"
   ]
  },
  {
   "cell_type": "code",
   "execution_count": 64,
   "metadata": {},
   "outputs": [
    {
     "data": {
      "text/plain": [
       "{'director': 'john lasseter',\n",
       " 'retorno_total_director': 27.65437835777778,\n",
       " 'peliculas': [{'nombre': 'Toy Story',\n",
       "   'anio': 1995,\n",
       "   'retorno_pelicula': 12.4518011,\n",
       "   'budget_pelicula': 30000000.0,\n",
       "   'revenue_pelicula': 373554033.0},\n",
       "  {'nombre': \"A Bug's Life\",\n",
       "   'anio': 1998,\n",
       "   'retorno_pelicula': 3.027157158333333,\n",
       "   'budget_pelicula': 120000000.0,\n",
       "   'revenue_pelicula': 363258859.0},\n",
       "  {'nombre': 'Toy Story 2',\n",
       "   'anio': 1999,\n",
       "   'retorno_pelicula': 5.526298544444445,\n",
       "   'budget_pelicula': 90000000.0,\n",
       "   'revenue_pelicula': 497366869.0},\n",
       "  {'nombre': 'Luxo Jr.',\n",
       "   'anio': 1986,\n",
       "   'retorno_pelicula': 0.0,\n",
       "   'budget_pelicula': 0.0,\n",
       "   'revenue_pelicula': 0.0},\n",
       "  {'nombre': 'Cars',\n",
       "   'anio': 2006,\n",
       "   'retorno_pelicula': 3.849859575,\n",
       "   'budget_pelicula': 120000000.0,\n",
       "   'revenue_pelicula': 461983149.0},\n",
       "  {'nombre': 'Cars 2',\n",
       "   'anio': 2011,\n",
       "   'retorno_pelicula': 2.79926198,\n",
       "   'budget_pelicula': 200000000.0,\n",
       "   'revenue_pelicula': 559852396.0},\n",
       "  {'nombre': 'Tin Toy',\n",
       "   'anio': 1988,\n",
       "   'retorno_pelicula': 0.0,\n",
       "   'budget_pelicula': 0.0,\n",
       "   'revenue_pelicula': 0.0},\n",
       "  {'nombre': \"Red's Dream\",\n",
       "   'anio': 1987,\n",
       "   'retorno_pelicula': 0.0,\n",
       "   'budget_pelicula': 0.0,\n",
       "   'revenue_pelicula': 0.0},\n",
       "  {'nombre': 'Knick Knack',\n",
       "   'anio': 1989,\n",
       "   'retorno_pelicula': 0.0,\n",
       "   'budget_pelicula': 0.0,\n",
       "   'revenue_pelicula': 0.0},\n",
       "  {'nombre': 'Mater and the Ghostlight',\n",
       "   'anio': 2006,\n",
       "   'retorno_pelicula': 0.0,\n",
       "   'budget_pelicula': 0.0,\n",
       "   'revenue_pelicula': 0.0}]}"
      ]
     },
     "execution_count": 64,
     "metadata": {},
     "output_type": "execute_result"
    }
   ],
   "source": [
    "get_director('John Lasseter')"
   ]
  },
  {
   "cell_type": "code",
   "execution_count": 63,
   "metadata": {},
   "outputs": [],
   "source": [
    "def get_director(nombre_director: str):\n",
    "    '''Se ingresa el nombre de un director que se encuentre dentro de un dataset debiendo devolver el éxito del mismo medido a través del retorno. \n",
    "    Además, deberá devolver el nombre de cada película con la fecha de lanzamiento, retorno individual, costo y ganancia de la misma.'''\n",
    "    \n",
    "    nombre_director = nombre_director.lower()# Convertir el nombre del director a minúsculas\n",
    "    peliculas_director = df_completo[df_completo['directors'].str.lower().str.contains(nombre_director)]# Filtrar el DataFrame para obtener las películas del director\n",
    "    retorno_total_director = peliculas_director['return'].sum()# Obtener el retorno total del director\n",
    "    peliculas = []  # Crear una lista para almacenar la información de cada película\n",
    "    for index, pelicula in peliculas_director.iterrows():\n",
    "        # Obtener los datos de cada película\n",
    "        nombre_pelicula = pelicula['title']\n",
    "        anio_lanzamiento = pelicula['release_year']\n",
    "        retorno_pelicula = pelicula['return']\n",
    "        budget_pelicula = pelicula['budget']\n",
    "        revenue_pelicula = pelicula['revenue']\n",
    "        \n",
    "        # Agregar los datos de la película a la lista\n",
    "        peliculas.append({\n",
    "            'nombre': nombre_pelicula,\n",
    "            'anio': anio_lanzamiento,\n",
    "            'retorno_pelicula': retorno_pelicula,\n",
    "            'budget_pelicula': budget_pelicula,\n",
    "            'revenue_pelicula': revenue_pelicula\n",
    "        })\n",
    "    \n",
    "    return {\n",
    "        'director': nombre_director,\n",
    "        'retorno_total_director': retorno_total_director,\n",
    "        'peliculas': peliculas\n",
    "    }\n"
   ]
  }
 ],
 "metadata": {
  "kernelspec": {
   "display_name": "Python 3",
   "language": "python",
   "name": "python3"
  },
  "language_info": {
   "codemirror_mode": {
    "name": "ipython",
    "version": 3
   },
   "file_extension": ".py",
   "mimetype": "text/x-python",
   "name": "python",
   "nbconvert_exporter": "python",
   "pygments_lexer": "ipython3",
   "version": "3.10.6"
  },
  "orig_nbformat": 4
 },
 "nbformat": 4,
 "nbformat_minor": 2
}
