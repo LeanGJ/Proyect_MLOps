{
 "cells": [
  {
   "cell_type": "code",
   "execution_count": 4,
   "metadata": {},
   "outputs": [],
   "source": [
    "from sklearn.feature_extraction.text import TfidfVectorizer\n",
    "import pandas as pd"
   ]
  },
  {
   "cell_type": "code",
   "execution_count": 5,
   "metadata": {},
   "outputs": [],
   "source": [
    "df_completo=pd.read_csv(f\"Datasets/Data_ETL_EDA.csv\")"
   ]
  },
  {
   "cell_type": "code",
   "execution_count": 6,
   "metadata": {},
   "outputs": [],
   "source": [
    "def recomendation(title: str):\n",
    "    \"\"\"Ingresas un nombre de pelicula y te recomienda las similares en una lista\"\"\"\n",
    "    title = title.lower()\n",
    "    # Buscamos la película en el df de películas\n",
    "    movie_id = df_completo.loc[df_completo[\"title\"].str.lower() == title].index\n",
    "\n",
    "    # Si la película no existe en el DataFrame, se devuelve nulo\n",
    "    if movie_id.empty:\n",
    "        return {\"lista recomendada\": \"No se encontró la película\"}\n",
    "\n",
    "    # Intentamos obtener la sinopsis de la película ingresada por el usuario\n",
    "    try:\n",
    "        movie_overview = df_completo.loc[movie_id, 'overview'].iloc[0]\n",
    "    except KeyError:\n",
    "        return {\"lista recomendada\": \"No hay suficiente información de esta película para hacer alguna recomendación\"}\n",
    "\n",
    "    # Creamos un vectorizador TF-IDF para convertir las sinopsis en una matriz de características\n",
    "    vectorizer = TfidfVectorizer()\n",
    "    matriz_caracteristicas = vectorizer.fit_transform(df_completo['overview'])\n",
    "\n",
    "    # Calculamos la similitud de coseno entre la sinopsis de la película ingresada por el usuario y todas las demás sinopsis\n",
    "    cosine_sim = cosine_similarity(vectorizer.transform([movie_overview]), matriz_caracteristicas)\n",
    "\n",
    "    # Obtenemos los 5 índices de las películas más similares excluyendo la primera que es la que ingresó el usuario\n",
    "    similar_movies = cosine_sim.argsort()[0][::-1][1:6]\n",
    "\n",
    "    recomendation_list = []\n",
    "    # Obtenemos los títulos de las películas similares y los añadimos a la lista de recomendación\n",
    "    for i in similar_movies:\n",
    "        recomendation_list.append((df_completo[\"title\"].iloc[i]).title())\n",
    "\n",
    "    return {\"lista recomendada\": sorted(recomendation_list)}\n"
   ]
  },
  {
   "cell_type": "code",
   "execution_count": 7,
   "metadata": {},
   "outputs": [
    {
     "data": {
      "text/plain": [
       "{'lista recomendada': ['Batman Beyond: Return Of The Joker',\n",
       "  'Batman Unlimited: Monster Mayhem',\n",
       "  'Batman Vs Dracula',\n",
       "  'Batman: Under The Red Hood',\n",
       "  'The Dark Knight Rises']}"
      ]
     },
     "execution_count": 7,
     "metadata": {},
     "output_type": "execute_result"
    }
   ],
   "source": [
    "recomendation(\"batman\")"
   ]
  },
  {
   "cell_type": "code",
   "execution_count": 8,
   "metadata": {},
   "outputs": [
    {
     "data": {
      "text/plain": [
       "{'lista recomendada': [\"Andy Hardy'S Blonde Trouble\",\n",
       "  'Small Fry',\n",
       "  'The 40 Year Old Virgin',\n",
       "  'Toy Story 2',\n",
       "  'Toy Story 3']}"
      ]
     },
     "execution_count": 8,
     "metadata": {},
     "output_type": "execute_result"
    }
   ],
   "source": [
    "recomendation(\"toy story\")"
   ]
  }
 ],
 "metadata": {
  "kernelspec": {
   "display_name": "Python 3",
   "language": "python",
   "name": "python3"
  },
  "language_info": {
   "codemirror_mode": {
    "name": "ipython",
    "version": 3
   },
   "file_extension": ".py",
   "mimetype": "text/x-python",
   "name": "python",
   "nbconvert_exporter": "python",
   "pygments_lexer": "ipython3",
   "version": "3.10.6"
  },
  "orig_nbformat": 4
 },
 "nbformat": 4,
 "nbformat_minor": 2
}
